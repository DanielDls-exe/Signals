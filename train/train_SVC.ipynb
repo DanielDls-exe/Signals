{
 "cells": [
  {
   "cell_type": "code",
   "execution_count": 1,
   "metadata": {},
   "outputs": [],
   "source": [
    "from train_test_split import generated_tts\n",
    "from train_test_split import path_act"
   ]
  },
  {
   "cell_type": "code",
   "execution_count": 2,
   "metadata": {},
   "outputs": [],
   "source": [
    "from sklearn.metrics import accuracy_score, confusion_matrix, classification_report, f1_score, recall_score, precision_score\n",
    "import seaborn as sns\n",
    "import matplotlib.pyplot as plt\n",
    "import numpy as np\n",
    "from sklearn.svm import SVC\n",
    "import pickle"
   ]
  },
  {
   "cell_type": "code",
   "execution_count": 3,
   "metadata": {},
   "outputs": [],
   "source": [
    "X_train, X_val, y_train, y_val = generated_tts()"
   ]
  },
  {
   "cell_type": "code",
   "execution_count": 4,
   "metadata": {},
   "outputs": [
    {
     "data": {
      "text/plain": [
       "SVC(C=10)"
      ]
     },
     "execution_count": 4,
     "metadata": {},
     "output_type": "execute_result"
    }
   ],
   "source": [
    "svm = SVC(C=10)\n",
    "svm.fit(X_train, y_train)"
   ]
  },
  {
   "cell_type": "code",
   "execution_count": 5,
   "metadata": {},
   "outputs": [
    {
     "data": {
      "text/plain": [
       "array(['U', 'Q', 'D', 'A', 'E', 'V', 'C', 'W', 'S', 'S', 'i love u', 'F',\n",
       "       'U', 'I', 'N', 'M', 'T', 'A', 'I', 'U', 'i love u', 'C', 'N',\n",
       "       'i love u', 'R', 'Y', 'I', 'U', 'I', 'O', 'i love u', 'R', 'E',\n",
       "       'P', 'D', 'X', 'O', 'H', 'i love u', 'i love u', 'L', 'i love u',\n",
       "       'K', 'E', 'T', 'i love u', 'i love u', 'E', 'N', 'i love u', 'M',\n",
       "       'I', 'A', 'F', 'K', 'Y', 'I', 'i love u', 'i love u', 'A', 'H',\n",
       "       'O', 'T', 'R', 'V', 'O', 'i love u', 'S', 'O', 'W', 'D', 'F', 'D',\n",
       "       'H', 'E', 'X', 'W', 'C', 'V', 'M', 'I', 'U', 'E', 'X', 'i love u',\n",
       "       'F', 'D', 'K', 'O', 'U', 'C', 'I', 'U', 'T', 'O', 'M', 'O', 'D',\n",
       "       'Y', 'T', 'O', 'H', 'X', 'U', 'B', 'U', 'O', 'X', 'R', 'K', 'F',\n",
       "       'E', 'H', 'M', 'S', 'N', 'T', 'M', 'V', 'i love u', 'i love u',\n",
       "       'i love u', 'C', 'D', 'D', 'F', 'B', 'E', 'R', 'A', 'O', 'V', 'E',\n",
       "       'U', 'U', 'i love u', 'L', 'Q', 'U', 'M', 'A', 'D', 'W', 'U', 'V',\n",
       "       'B', 'M', 'F', 'Q', 'H', 'Y', 'N', 'O', 'O', 'F', 'U', 'A', 'E',\n",
       "       'C', 'A', 'T', 'E', 'E', 'E', 'D', 'L', 'I', 'H', 'G', 'U', 'O',\n",
       "       'T', 'T', 'S', 'i love u', 'E', 'K', 'I', 'L', 'i love u', 'R',\n",
       "       'U', 'I', 'O', 'C', 'I', 'O', 'K', 'V', 'i love u', 'R', 'P', 'V',\n",
       "       'D', 'A', 'E', 'i love u', 'M', 'Q', 'X', 'E', 'W', 'M', 'U', 'D',\n",
       "       'A', 'F', 'B', 'i love u', 'A', 'O', 'T', 'U', 'Q', 'U', 'A', 'B',\n",
       "       'A', 'L', 'F', 'i love u', 'W', 'T', 'Y', 'E', 'S', 'L', 'Q', 'Q',\n",
       "       'I', 'U', 'A', 'T', 'U', 'Q', 'X', 'H', 'T', 'D', 'L', 'S', 'O',\n",
       "       'X', 'M', 'A', 'T', 'U', 'A', 'A', 'P', 'U', 'S', 'I', 'U', 'Y',\n",
       "       'G', 'D', 'V', 'I', 'D', 'U', 'I', 'A', 'I', 'H', 'H', 'L', 'I',\n",
       "       'O', 'I', 'i love u', 'M', 'U', 'U', 'B', 'S', 'i love u', 'G',\n",
       "       'W', 'A', 'V', 'X', 'O', 'E', 'M', 'U', 'U', 'A', 'A', 'I', 'I',\n",
       "       'B', 'E', 'I', 'i love u', 'T', 'L', 'i love u', 'F', 'F', 'U',\n",
       "       'F', 'Y', 'R', 'I', 'S', 'C', 'X', 'X', 'I', 'E', 'I', 'U', 'C',\n",
       "       'B', 'E', 'P', 'H', 'H', 'N', 'Q', 'L', 'I', 'F', 'I', 'i love u',\n",
       "       'K', 'A', 'M', 'Y', 'T', 'B', 'V', 'D', 'i love u', 'A', 'O', 'B',\n",
       "       'i love u', 'K', 'A', 'O', 'R', 'E', 'i love u', 'W', 'D', 'E',\n",
       "       'U', 'W', 'A', 'I', 'O', 'E', 'H', 'K', 'U', 'I', 'F', 'T', 'I',\n",
       "       'i love u', 'I', 'E', 'A', 'P', 'Y', 'U', 'D', 'G', 'O', 'E', 'H',\n",
       "       'A', 'U', 'V', 'C', 'B', 'X', 'O', 'B', 'R', 'B', 'R', 'G', 'A',\n",
       "       'H', 'X', 'K', 'X', 'A', 'i love u', 'L', 'Y', 'H', 'U', 'O', 'A',\n",
       "       'O', 'I', 'D', 'A', 'O', 'H', 'i love u', 'i love u', 'P', 'A',\n",
       "       'W', 'E', 'F', 'V', 'I', 'N', 'R', 'N', 'O', 'i love u', 'A', 'K',\n",
       "       'F', 'P', 'A', 'W', 'H', 'W', 'i love u', 'i love u', 'M', 'S',\n",
       "       'M', 'G', 'i love u', 'M', 'X', 'N', 'O', 'E', 'O', 'H', 'P', 'X',\n",
       "       'i love u', 'R', 'F', 'A', 'I', 'D', 'O', 'A', 'i love u', 'T',\n",
       "       'L', 'E', 'W', 'O', 'B', 'P', 'R', 'S', 'D', 'U', 'F', 'U', 'A',\n",
       "       'E', 'R', 'H', 'I', 'Y', 'F', 'O', 'Q', 'D', 'G', 'U', 'O', 'F',\n",
       "       'V', 'C', 'H', 'L', 'T', 'O', 'C', 'Y', 'E', 'M', 'F', 'A', 'E',\n",
       "       'V', 'O', 'C', 'E', 'K', 'L', 'L', 'N', 'i love u', 'W', 'O', 'Y',\n",
       "       'i love u', 'P', 'F', 'I', 'K', 'I', 'i love u', 'L', 'T', 'L',\n",
       "       'K', 'E', 'U', 'A', 'A', 'G', 'O', 'K', 'C', 'N', 'N', 'i love u',\n",
       "       'O', 'P', 'S', 'M', 'i love u', 'U', 'T', 'L', 'O', 'i love u',\n",
       "       'i love u', 'i love u', 'E', 'i love u', 'W', 'O', 'S', 'A', 'K',\n",
       "       'G', 'E', 'U', 'T', 'T', 'i love u', 'R', 'A', 'C', 'i love u',\n",
       "       'A', 'Y', 'L', 'U', 'S', 'K', 'O', 'A', 'G', 'A', 'i love u', 'A',\n",
       "       'R', 'D', 'S', 'Y', 'Q', 'O', 'H', 'i love u', 'H', 'P', 'B', 'F',\n",
       "       'B', 'Y', 'i love u', 'U', 'R', 'N', 'i love u', 'C', 'E', 'A',\n",
       "       'O', 'O', 'i love u', 'L', 'X', 'O', 'i love u', 'W', 'X', 'P',\n",
       "       'A', 'H'], dtype=object)"
      ]
     },
     "execution_count": 5,
     "metadata": {},
     "output_type": "execute_result"
    }
   ],
   "source": [
    "y_pred = svm.predict(X_val)\n",
    "y_pred"
   ]
  },
  {
   "cell_type": "code",
   "execution_count": 6,
   "metadata": {},
   "outputs": [
    {
     "data": {
      "text/plain": [
       "(0.925, 0.925, 0.925)"
      ]
     },
     "execution_count": 6,
     "metadata": {},
     "output_type": "execute_result"
    }
   ],
   "source": [
    "cf_matrix = confusion_matrix(y_val, y_pred)\n",
    "f1 = f1_score(y_val, y_pred, average='micro')\n",
    "recall = recall_score(y_val, y_pred, average='micro')\n",
    "precision = precision_score(y_val, y_pred, average='micro')\n",
    "f1, recall, precision"
   ]
  },
  {
   "cell_type": "code",
   "execution_count": 7,
   "metadata": {},
   "outputs": [
    {
     "data": {
      "text/plain": [
       "<AxesSubplot:title={'center':'Confusion Matrix - Spanish Sign Language'}>"
      ]
     },
     "execution_count": 7,
     "metadata": {},
     "output_type": "execute_result"
    },
    {
     "data": {
      "image/png": "[encoded data removed]",
      "text/plain": [
       "<Figure size 1080x1080 with 2 Axes>"
      ]
     },
     "metadata": {
      "needs_background": "light"
     },
     "output_type": "display_data"
    }
   ],
   "source": [
    "labels = ['A', 'B', 'C', 'D','E', 'F', 'G', 'H ', 'I', 'K','L' , 'M','N','O','P','Q','R','S', 'T', 'U', 'V', 'W', 'X', 'Y', 'i love u']\n",
    "\n",
    "fig, ax = plt.subplots(figsize=(15, 15))\n",
    "\n",
    "ax.set_title(\"Confusion Matrix - Spanish Sign Language\")\n",
    "\n",
    "maping = sns.heatmap(cf_matrix, \n",
    "                     annot=True,\n",
    "                     cmap = plt.cm.Blues, \n",
    "                     linewidths=.2,\n",
    "                     xticklabels=labels,\n",
    "                     yticklabels=labels, vmax=8,\n",
    "                     fmt='g',\n",
    "                     ax=ax\n",
    "                    )\n",
    "maping"
   ]
  },
  {
   "cell_type": "code",
   "execution_count": 8,
   "metadata": {},
   "outputs": [
    {
     "data": {
      "text/plain": [
       "array(['U', 'Q', 'D', 'A', 'E', 'V', 'C', 'W', 'S', 'S', 'i love u', 'F',\n",
       "       'U', 'I', 'N', 'M', 'T', 'A', 'I', 'U', 'i love u', 'C', 'N',\n",
       "       'i love u', 'R', 'Y', 'I', 'U', 'I', 'O', 'N', 'R', 'E', 'P', 'D',\n",
       "       'X', 'O', 'H', 'Q', 'i love u', 'L', 'i love u', 'K', 'E', 'T',\n",
       "       'Q', 'i love u', 'E', 'N', 'S', 'M', 'I', 'A', 'F', 'K', 'Y', 'I',\n",
       "       'I', 'S', 'A', 'H', 'O', 'T', 'R', 'V', 'O', 'I', 'S', 'O', 'W',\n",
       "       'D', 'F', 'D', 'H', 'E', 'X', 'W', 'C', 'V', 'M', 'I', 'U', 'E',\n",
       "       'X', 'Q', 'F', 'D', 'K', 'O', 'U', 'C', 'I', 'U', 'T', 'O', 'M',\n",
       "       'O', 'D', 'Y', 'T', 'O', 'H', 'X', 'U', 'B', 'U', 'O', 'X', 'R',\n",
       "       'K', 'F', 'E', 'H', 'M', 'S', 'N', 'T', 'M', 'V', 'S', 'I',\n",
       "       'i love u', 'C', 'D', 'D', 'F', 'B', 'E', 'R', 'A', 'O', 'V', 'E',\n",
       "       'U', 'U', 'S', 'L', 'Q', 'U', 'M', 'A', 'D', 'W', 'U', 'V', 'B',\n",
       "       'M', 'F', 'Q', 'H', 'Y', 'N', 'O', 'O', 'F', 'U', 'A', 'E', 'C',\n",
       "       'A', 'T', 'E', 'E', 'E', 'D', 'L', 'I', 'H', 'G', 'U', 'O', 'T',\n",
       "       'T', 'S', 'N', 'E', 'K', 'I', 'L', 'i love u', 'R', 'U',\n",
       "       'i love u', 'O', 'C', 'I', 'O', 'K', 'V', 'S', 'R', 'P', 'W', 'D',\n",
       "       'A', 'E', 'Q', 'M', 'Q', 'X', 'E', 'W', 'M', 'U', 'D', 'A', 'F',\n",
       "       'B', 'i love u', 'A', 'O', 'T', 'R', 'Q', 'U', 'A', 'B', 'A', 'L',\n",
       "       'F', 'I', 'W', 'T', 'Y', 'E', 'S', 'L', 'Q', 'Q', 'I', 'U', 'A',\n",
       "       'T', 'U', 'Q', 'X', 'H', 'T', 'D', 'L', 'S', 'O', 'X', 'M', 'A',\n",
       "       'T', 'U', 'A', 'A', 'P', 'U', 'S', 'I', 'U', 'Y', 'G', 'D', 'V',\n",
       "       'I', 'D', 'U', 'I', 'A', 'I', 'H', 'H', 'L', 'I', 'O', 'i love u',\n",
       "       'I', 'M', 'U', 'U', 'B', 'S', 'i love u', 'G', 'W', 'A', 'V', 'X',\n",
       "       'O', 'E', 'M', 'R', 'U', 'A', 'A', 'I', 'I', 'B', 'E', 'I', 'I',\n",
       "       'T', 'L', 'Q', 'F', 'F', 'U', 'F', 'Y', 'R', 'I', 'S', 'C', 'X',\n",
       "       'X', 'i love u', 'E', 'I', 'U', 'C', 'B', 'E', 'P', 'H', 'H', 'N',\n",
       "       'Q', 'L', 'I', 'F', 'I', 'S', 'K', 'A', 'M', 'Y', 'T', 'B', 'V',\n",
       "       'D', 'I', 'A', 'O', 'B', 'N', 'K', 'A', 'O', 'K', 'E', 'i love u',\n",
       "       'W', 'D', 'E', 'U', 'W', 'A', 'I', 'O', 'E', 'H', 'K', 'U', 'I',\n",
       "       'F', 'T', 'I', 'i love u', 'I', 'E', 'A', 'P', 'Y', 'U', 'D', 'G',\n",
       "       'O', 'E', 'H', 'A', 'U', 'V', 'C', 'B', 'X', 'O', 'B', 'R', 'B',\n",
       "       'R', 'G', 'A', 'H', 'X', 'K', 'X', 'A', 'N', 'L', 'Y', 'H', 'U',\n",
       "       'O', 'A', 'O', 'I', 'D', 'A', 'O', 'H', 'S', 'i love u', 'P', 'A',\n",
       "       'W', 'E', 'F', 'V', 'I', 'N', 'R', 'N', 'O', 'I', 'A', 'K', 'F',\n",
       "       'P', 'A', 'W', 'H', 'W', 'I', 'G', 'M', 'S', 'M', 'G', 'i love u',\n",
       "       'M', 'X', 'N', 'O', 'E', 'O', 'H', 'P', 'X', 'I', 'R', 'F', 'A',\n",
       "       'I', 'D', 'O', 'A', 'N', 'T', 'L', 'E', 'W', 'O', 'B', 'P', 'R',\n",
       "       'S', 'D', 'U', 'F', 'U', 'A', 'E', 'R', 'H', 'I', 'Y', 'F', 'O',\n",
       "       'Q', 'D', 'G', 'U', 'O', 'F', 'V', 'C', 'H', 'L', 'N', 'O', 'C',\n",
       "       'Y', 'E', 'M', 'F', 'A', 'E', 'V', 'O', 'C', 'E', 'K', 'L', 'L',\n",
       "       'N', 'i love u', 'W', 'O', 'Y', 'P', 'P', 'F', 'I', 'K', 'I',\n",
       "       'i love u', 'L', 'T', 'L', 'K', 'E', 'U', 'A', 'A', 'G', 'O', 'K',\n",
       "       'C', 'N', 'N', 'V', 'O', 'P', 'S', 'M', 'P', 'U', 'T', 'L', 'O',\n",
       "       'i love u', 'i love u', 'O', 'E', 'i love u', 'W', 'O', 'S', 'A',\n",
       "       'K', 'G', 'E', 'U', 'T', 'T', 'Q', 'R', 'A', 'C', 'S', 'A', 'Y',\n",
       "       'L', 'U', 'S', 'K', 'O', 'A', 'G', 'A', 'N', 'A', 'R', 'D', 'S',\n",
       "       'Y', 'Q', 'O', 'H', 'i love u', 'H', 'P', 'B', 'F', 'B', 'Y', 'I',\n",
       "       'U', 'R', 'N', 'i love u', 'C', 'E', 'A', 'O', 'O', 'X', 'L', 'X',\n",
       "       'O', 'i love u', 'W', 'X', 'P', 'A', 'H'], dtype=object)"
      ]
     },
     "execution_count": 8,
     "metadata": {},
     "output_type": "execute_result"
    }
   ],
   "source": [
    "np.array(y_val)"
   ]
  },
  {
   "cell_type": "code",
   "execution_count": 9,
   "metadata": {},
   "outputs": [
    {
     "data": {
      "text/plain": [
       "array(['U', 'Q', 'D', 'A', 'E', 'V', 'C', 'W', 'S', 'S', 'i love u', 'F',\n",
       "       'U', 'I', 'N', 'M', 'T', 'A', 'I', 'U', 'i love u', 'C', 'N',\n",
       "       'i love u', 'R', 'Y', 'I', 'U', 'I', 'O', 'i love u', 'R', 'E',\n",
       "       'P', 'D', 'X', 'O', 'H', 'i love u', 'i love u', 'L', 'i love u',\n",
       "       'K', 'E', 'T', 'i love u', 'i love u', 'E', 'N', 'i love u', 'M',\n",
       "       'I', 'A', 'F', 'K', 'Y', 'I', 'i love u', 'i love u', 'A', 'H',\n",
       "       'O', 'T', 'R', 'V', 'O', 'i love u', 'S', 'O', 'W', 'D', 'F', 'D',\n",
       "       'H', 'E', 'X', 'W', 'C', 'V', 'M', 'I', 'U', 'E', 'X', 'i love u',\n",
       "       'F', 'D', 'K', 'O', 'U', 'C', 'I', 'U', 'T', 'O', 'M', 'O', 'D',\n",
       "       'Y', 'T', 'O', 'H', 'X', 'U', 'B', 'U', 'O', 'X', 'R', 'K', 'F',\n",
       "       'E', 'H', 'M', 'S', 'N', 'T', 'M', 'V', 'i love u', 'i love u',\n",
       "       'i love u', 'C', 'D', 'D', 'F', 'B', 'E', 'R', 'A', 'O', 'V', 'E',\n",
       "       'U', 'U', 'i love u', 'L', 'Q', 'U', 'M', 'A', 'D', 'W', 'U', 'V',\n",
       "       'B', 'M', 'F', 'Q', 'H', 'Y', 'N', 'O', 'O', 'F', 'U', 'A', 'E',\n",
       "       'C', 'A', 'T', 'E', 'E', 'E', 'D', 'L', 'I', 'H', 'G', 'U', 'O',\n",
       "       'T', 'T', 'S', 'i love u', 'E', 'K', 'I', 'L', 'i love u', 'R',\n",
       "       'U', 'I', 'O', 'C', 'I', 'O', 'K', 'V', 'i love u', 'R', 'P', 'V',\n",
       "       'D', 'A', 'E', 'i love u', 'M', 'Q', 'X', 'E', 'W', 'M', 'U', 'D',\n",
       "       'A', 'F', 'B', 'i love u', 'A', 'O', 'T', 'U', 'Q', 'U', 'A', 'B',\n",
       "       'A', 'L', 'F', 'i love u', 'W', 'T', 'Y', 'E', 'S', 'L', 'Q', 'Q',\n",
       "       'I', 'U', 'A', 'T', 'U', 'Q', 'X', 'H', 'T', 'D', 'L', 'S', 'O',\n",
       "       'X', 'M', 'A', 'T', 'U', 'A', 'A', 'P', 'U', 'S', 'I', 'U', 'Y',\n",
       "       'G', 'D', 'V', 'I', 'D', 'U', 'I', 'A', 'I', 'H', 'H', 'L', 'I',\n",
       "       'O', 'I', 'i love u', 'M', 'U', 'U', 'B', 'S', 'i love u', 'G',\n",
       "       'W', 'A', 'V', 'X', 'O', 'E', 'M', 'U', 'U', 'A', 'A', 'I', 'I',\n",
       "       'B', 'E', 'I', 'i love u', 'T', 'L', 'i love u', 'F', 'F', 'U',\n",
       "       'F', 'Y', 'R', 'I', 'S', 'C', 'X', 'X', 'I', 'E', 'I', 'U', 'C',\n",
       "       'B', 'E', 'P', 'H', 'H', 'N', 'Q', 'L', 'I', 'F', 'I', 'i love u',\n",
       "       'K', 'A', 'M', 'Y', 'T', 'B', 'V', 'D', 'i love u', 'A', 'O', 'B',\n",
       "       'i love u', 'K', 'A', 'O', 'R', 'E', 'i love u', 'W', 'D', 'E',\n",
       "       'U', 'W', 'A', 'I', 'O', 'E', 'H', 'K', 'U', 'I', 'F', 'T', 'I',\n",
       "       'i love u', 'I', 'E', 'A', 'P', 'Y', 'U', 'D', 'G', 'O', 'E', 'H',\n",
       "       'A', 'U', 'V', 'C', 'B', 'X', 'O', 'B', 'R', 'B', 'R', 'G', 'A',\n",
       "       'H', 'X', 'K', 'X', 'A', 'i love u', 'L', 'Y', 'H', 'U', 'O', 'A',\n",
       "       'O', 'I', 'D', 'A', 'O', 'H', 'i love u', 'i love u', 'P', 'A',\n",
       "       'W', 'E', 'F', 'V', 'I', 'N', 'R', 'N', 'O', 'i love u', 'A', 'K',\n",
       "       'F', 'P', 'A', 'W', 'H', 'W', 'i love u', 'i love u', 'M', 'S',\n",
       "       'M', 'G', 'i love u', 'M', 'X', 'N', 'O', 'E', 'O', 'H', 'P', 'X',\n",
       "       'i love u', 'R', 'F', 'A', 'I', 'D', 'O', 'A', 'i love u', 'T',\n",
       "       'L', 'E', 'W', 'O', 'B', 'P', 'R', 'S', 'D', 'U', 'F', 'U', 'A',\n",
       "       'E', 'R', 'H', 'I', 'Y', 'F', 'O', 'Q', 'D', 'G', 'U', 'O', 'F',\n",
       "       'V', 'C', 'H', 'L', 'T', 'O', 'C', 'Y', 'E', 'M', 'F', 'A', 'E',\n",
       "       'V', 'O', 'C', 'E', 'K', 'L', 'L', 'N', 'i love u', 'W', 'O', 'Y',\n",
       "       'i love u', 'P', 'F', 'I', 'K', 'I', 'i love u', 'L', 'T', 'L',\n",
       "       'K', 'E', 'U', 'A', 'A', 'G', 'O', 'K', 'C', 'N', 'N', 'i love u',\n",
       "       'O', 'P', 'S', 'M', 'i love u', 'U', 'T', 'L', 'O', 'i love u',\n",
       "       'i love u', 'i love u', 'E', 'i love u', 'W', 'O', 'S', 'A', 'K',\n",
       "       'G', 'E', 'U', 'T', 'T', 'i love u', 'R', 'A', 'C', 'i love u',\n",
       "       'A', 'Y', 'L', 'U', 'S', 'K', 'O', 'A', 'G', 'A', 'i love u', 'A',\n",
       "       'R', 'D', 'S', 'Y', 'Q', 'O', 'H', 'i love u', 'H', 'P', 'B', 'F',\n",
       "       'B', 'Y', 'i love u', 'U', 'R', 'N', 'i love u', 'C', 'E', 'A',\n",
       "       'O', 'O', 'i love u', 'L', 'X', 'O', 'i love u', 'W', 'X', 'P',\n",
       "       'A', 'H'], dtype=object)"
      ]
     },
     "execution_count": 9,
     "metadata": {},
     "output_type": "execute_result"
    }
   ],
   "source": [
    "np.array(y_pred)"
   ]
  },
  {
   "cell_type": "code",
   "execution_count": 10,
   "metadata": {},
   "outputs": [
    {
     "data": {
      "text/plain": [
       "array([ True,  True,  True,  True,  True,  True,  True,  True,  True,\n",
       "        True,  True,  True,  True,  True,  True,  True,  True,  True,\n",
       "        True,  True,  True,  True,  True,  True,  True,  True,  True,\n",
       "        True,  True,  True, False,  True,  True,  True,  True,  True,\n",
       "        True,  True, False,  True,  True,  True,  True,  True,  True,\n",
       "       False,  True,  True,  True, False,  True,  True,  True,  True,\n",
       "        True,  True,  True, False, False,  True,  True,  True,  True,\n",
       "        True,  True,  True, False,  True,  True,  True,  True,  True,\n",
       "        True,  True,  True,  True,  True,  True,  True,  True,  True,\n",
       "        True,  True,  True, False,  True,  True,  True,  True,  True,\n",
       "        True,  True,  True,  True,  True,  True,  True,  True,  True,\n",
       "        True,  True,  True,  True,  True,  True,  True,  True,  True,\n",
       "        True,  True,  True,  True,  True,  True,  True,  True,  True,\n",
       "        True,  True, False, False,  True,  True,  True,  True,  True,\n",
       "        True,  True,  True,  True,  True,  True,  True,  True,  True,\n",
       "       False,  True,  True,  True,  True,  True,  True,  True,  True,\n",
       "        True,  True,  True,  True,  True,  True,  True,  True,  True,\n",
       "        True,  True,  True,  True,  True,  True,  True,  True,  True,\n",
       "        True,  True,  True,  True,  True,  True,  True,  True,  True,\n",
       "        True,  True,  True, False,  True,  True,  True,  True,  True,\n",
       "        True,  True, False,  True,  True,  True,  True,  True,  True,\n",
       "       False,  True,  True, False,  True,  True,  True, False,  True,\n",
       "        True,  True,  True,  True,  True,  True,  True,  True,  True,\n",
       "        True,  True,  True,  True,  True, False,  True,  True,  True,\n",
       "        True,  True,  True,  True, False,  True,  True,  True,  True,\n",
       "        True,  True,  True,  True,  True,  True,  True,  True,  True,\n",
       "        True,  True,  True,  True,  True,  True,  True,  True,  True,\n",
       "        True,  True,  True,  True,  True,  True,  True,  True,  True,\n",
       "        True,  True,  True,  True,  True,  True,  True,  True,  True,\n",
       "        True,  True,  True,  True,  True,  True,  True,  True, False,\n",
       "       False,  True,  True,  True,  True,  True,  True,  True,  True,\n",
       "        True,  True,  True,  True,  True,  True, False,  True,  True,\n",
       "        True,  True,  True,  True,  True,  True, False,  True,  True,\n",
       "       False,  True,  True,  True,  True,  True,  True,  True,  True,\n",
       "        True,  True,  True, False,  True,  True,  True,  True,  True,\n",
       "        True,  True,  True,  True,  True,  True,  True,  True,  True,\n",
       "        True, False,  True,  True,  True,  True,  True,  True,  True,\n",
       "        True, False,  True,  True,  True, False,  True,  True,  True,\n",
       "       False,  True,  True,  True,  True,  True,  True,  True,  True,\n",
       "        True,  True,  True,  True,  True,  True,  True,  True,  True,\n",
       "        True,  True,  True,  True,  True,  True,  True,  True,  True,\n",
       "        True,  True,  True,  True,  True,  True,  True,  True,  True,\n",
       "        True,  True,  True,  True,  True,  True,  True,  True,  True,\n",
       "        True,  True,  True,  True, False,  True,  True,  True,  True,\n",
       "        True,  True,  True,  True,  True,  True,  True,  True, False,\n",
       "        True,  True,  True,  True,  True,  True,  True,  True,  True,\n",
       "        True,  True,  True, False,  True,  True,  True,  True,  True,\n",
       "        True,  True,  True, False, False,  True,  True,  True,  True,\n",
       "        True,  True,  True,  True,  True,  True,  True,  True,  True,\n",
       "        True, False,  True,  True,  True,  True,  True,  True,  True,\n",
       "       False,  True,  True,  True,  True,  True,  True,  True,  True,\n",
       "        True,  True,  True,  True,  True,  True,  True,  True,  True,\n",
       "        True,  True,  True,  True,  True,  True,  True,  True,  True,\n",
       "        True,  True,  True,  True,  True, False,  True,  True,  True,\n",
       "        True,  True,  True,  True,  True,  True,  True,  True,  True,\n",
       "        True,  True,  True,  True,  True,  True,  True,  True, False,\n",
       "        True,  True,  True,  True,  True,  True,  True,  True,  True,\n",
       "        True,  True,  True,  True,  True,  True,  True,  True,  True,\n",
       "        True,  True, False,  True,  True,  True,  True, False,  True,\n",
       "        True,  True,  True,  True,  True, False,  True,  True,  True,\n",
       "        True,  True,  True,  True,  True,  True,  True,  True,  True,\n",
       "       False,  True,  True,  True, False,  True,  True,  True,  True,\n",
       "        True,  True,  True,  True,  True,  True, False,  True,  True,\n",
       "        True,  True,  True,  True,  True,  True,  True,  True,  True,\n",
       "        True,  True,  True,  True, False,  True,  True,  True,  True,\n",
       "        True,  True,  True,  True,  True, False,  True,  True,  True,\n",
       "        True,  True,  True,  True,  True,  True])"
      ]
     },
     "execution_count": 10,
     "metadata": {},
     "output_type": "execute_result"
    }
   ],
   "source": [
    "np.array(y_pred == y_val)"
   ]
  },
  {
   "cell_type": "code",
   "execution_count": 19,
   "metadata": {},
   "outputs": [],
   "source": [
    "with open(f'{dir}/model/SVC_model.pkl','wb') as fw:\n",
    "    pickle.dump(svm,fw)"
   ]
  }
 ],
 "metadata": {
  "interpreter": {
   "hash": "32f2fe102a4f10662d8c13f75131e1ba377b7194060421a642fdea27c55fc65a"
  },
  "kernelspec": {
   "display_name": "Python 3.10.0 64-bit",
   "language": "python",
   "name": "python3"
  },
  "language_info": {
   "codemirror_mode": {
    "name": "ipython",
    "version": 3
   },
   "file_extension": ".py",
   "mimetype": "text/x-python",
   "name": "python",
   "nbconvert_exporter": "python",
   "pygments_lexer": "ipython3",
   "version": "3.10.0"
  }
 },
 "nbformat": 4,
 "nbformat_minor": 2
}
