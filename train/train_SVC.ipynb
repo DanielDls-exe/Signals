{
 "cells": [
  {
   "cell_type": "code",
   "execution_count": 4,
   "metadata": {},
   "outputs": [],
   "source": [
    "from train_test_split import generated_tts"
   ]
  },
  {
   "cell_type": "code",
   "execution_count": 2,
   "metadata": {},
   "outputs": [],
   "source": [
    "from sklearn.metrics import accuracy_score, confusion_matrix, classification_report, f1_score, recall_score, precision_score\n",
    "import seaborn as sns\n",
    "import matplotlib.pyplot as plt\n",
    "import numpy as np\n",
    "from sklearn.svm import SVC\n",
    "import pickle"
   ]
  },
  {
   "cell_type": "code",
   "execution_count": 3,
   "metadata": {},
   "outputs": [],
   "source": [
    "X_train, X_val, y_train, y_val = generated_tts()"
   ]
  },
  {
   "cell_type": "code",
   "execution_count": 4,
   "metadata": {},
   "outputs": [
    {
     "data": {
      "text/plain": [
       "SVC(C=10)"
      ]
     },
     "execution_count": 4,
     "metadata": {},
     "output_type": "execute_result"
    }
   ],
   "source": [
    "svm = SVC(C=10)\n",
    "svm.fit(X_train, y_train)"
   ]
  },
  {
   "cell_type": "code",
   "execution_count": 5,
   "metadata": {},
   "outputs": [
    {
     "data": {
      "text/plain": [
       "array(['G', 'T', 'U', 'V', 'U', 'N', 'F', 'E', 'V', 'X', 'E', 'I', 'F',\n",
       "       'E', 'K', 'H', 'R', 'O', 'V', 'U', 'E', 'U', 'Q', 'P', 'X', 'I',\n",
       "       'E', 'I', 'H', 'C', 'I', 'C', 'H', 'Y', 'I', 'N', 'U', 'E', 'B',\n",
       "       'E', 'B', 'H', 'Q', 'L', 'O', 'A', 'X', 'E', 'A', 'E', 'I', 'X',\n",
       "       'D', 'Y', 'W', 'E', 'O', 'X', 'S', 'B', 'M', 'H', 'L', 'I', 'E',\n",
       "       'I', 'Y', 'U', 'G', 'I', 'W', 'M', 'K', 'A', 'P', 'H', 'E', 'D',\n",
       "       'A', 'F', 'L', 'W', 'B', 'S', 'E', 'Y', 'A', 'O', 'N', 'L', 'U',\n",
       "       'A', 'C', 'R', 'A', 'G', 'G', 'T', 'L', 'S', 'O', 'L', 'N', 'E',\n",
       "       'X', 'T', 'A', 'T', 'F', 'B', 'Y', 'O', 'Q', 'E', 'C', 'I', 'H',\n",
       "       'X', 'O', 'I', 'I', 'K', 'O', 'K', 'R', 'U', 'U', 'N', 'U', 'V',\n",
       "       'O', 'O', 'W', 'R', 'G', 'L', 'O', 'L', 'I', 'I', 'I', 'O', 'C',\n",
       "       'U', 'I', 'D', 'Y', 'U', 'K', 'O', 'E', 'W', 'O', 'S', 'V', 'K',\n",
       "       'D', 'U', 'X', 'U', 'S', 'F', 'O', 'L', 'B', 'K', 'S', 'I', 'P',\n",
       "       'I', 'D', 'F', 'N', 'N', 'W', 'I', 'F', 'K', 'X', 'D', 'B', 'R',\n",
       "       'O', 'U', 'L', 'T', 'B', 'H', 'E', 'Y', 'E', 'I', 'K', 'W', 'F',\n",
       "       'S', 'I', 'I', 'Y', 'I', 'L', 'O', 'A', 'I', 'O', 'A', 'I', 'G',\n",
       "       'E', 'N', 'I', 'A', 'K', 'S', 'T', 'T', 'I', 'P', 'Y', 'A', 'B',\n",
       "       'Q', 'L', 'W', 'B', 'O', 'U', 'U', 'L', 'P', 'U', 'W', 'I', 'W',\n",
       "       'Q', 'V', 'I', 'L', 'T', 'F', 'N', 'X', 'I', 'I', 'E', 'D', 'I',\n",
       "       'O', 'K', 'O', 'F', 'G', 'G', 'U', 'U', 'C', 'X', 'L', 'O', 'E',\n",
       "       'I', 'V', 'O', 'I', 'T', 'S', 'C', 'Y', 'X', 'I', 'S', 'M', 'A',\n",
       "       'N', 'H', 'I', 'I', 'I', 'I', 'O', 'A', 'Y', 'I', 'F', 'X', 'E',\n",
       "       'E', 'U', 'D', 'Q', 'M', 'I', 'O', 'U', 'I', 'Y', 'Y', 'P', 'W',\n",
       "       'T', 'I', 'E', 'K', 'I', 'X', 'K', 'H', 'X', 'O', 'I', 'D', 'A',\n",
       "       'O', 'G', 'K', 'N', 'C', 'Q', 'C', 'I', 'O', 'O', 'A', 'A', 'C',\n",
       "       'I', 'C', 'F', 'H', 'U', 'Y', 'G', 'A', 'O', 'E', 'X', 'Q', 'K',\n",
       "       'V', 'P', 'I', 'U', 'H', 'G', 'V', 'B', 'Q', 'T', 'D', 'S', 'V',\n",
       "       'A', 'N', 'Y', 'R', 'C', 'Y', 'E', 'C', 'U', 'B', 'E', 'M', 'O',\n",
       "       'L', 'R', 'N', 'E', 'G', 'Y', 'Q', 'A', 'S', 'N', 'D', 'Y', 'E',\n",
       "       'T', 'X', 'A', 'I', 'S', 'F', 'R', 'O', 'A', 'M', 'X', 'U', 'A',\n",
       "       'E', 'E', 'A', 'O', 'A', 'P', 'D', 'M', 'A', 'Y', 'L', 'Y', 'P',\n",
       "       'B', 'E', 'R', 'F', 'V', 'R', 'A', 'R', 'I', 'F', 'C', 'U', 'M',\n",
       "       'T', 'M', 'C', 'E', 'L', 'X', 'Q', 'E', 'T', 'F', 'M', 'Y', 'N',\n",
       "       'F', 'E', 'X', 'E', 'E', 'L', 'I', 'I', 'P', 'T', 'H', 'U', 'U',\n",
       "       'M', 'B', 'L', 'A', 'I', 'I', 'B', 'I', 'A', 'T', 'X', 'I', 'E',\n",
       "       'O', 'A', 'O', 'T', 'A', 'U', 'U', 'Q', 'A', 'I', 'M', 'M', 'F',\n",
       "       'Q', 'E', 'A', 'O', 'R', 'M', 'U', 'U', 'C', 'A', 'L', 'A', 'I',\n",
       "       'W', 'H', 'K', 'O', 'E', 'S', 'M', 'I', 'A', 'N', 'O', 'N', 'R',\n",
       "       'P', 'O', 'G', 'I', 'W', 'V', 'O', 'X', 'U', 'B', 'G', 'W', 'P',\n",
       "       'H', 'O', 'D', 'X', 'F', 'X', 'W', 'Q', 'U', 'I', 'U', 'X', 'I',\n",
       "       'O', 'V', 'B', 'L', 'I', 'V', 'A', 'M', 'I', 'U', 'K', 'I', 'X',\n",
       "       'L', 'N', 'N', 'S', 'E', 'F', 'U', 'I', 'A', 'Y', 'O', 'R', 'O',\n",
       "       'O', 'G', 'G', 'O', 'T', 'M', 'D', 'K', 'G', 'W', 'I', 'P', 'D',\n",
       "       'P', 'R', 'B', 'F', 'L', 'F', 'O', 'Y', 'H', 'A', 'Y', 'S', 'I',\n",
       "       'B', 'K', 'H', 'K', 'X', 'Q', 'A', 'E'], dtype=object)"
      ]
     },
     "execution_count": 5,
     "metadata": {},
     "output_type": "execute_result"
    }
   ],
   "source": [
    "y_pred = svm.predict(X_val)\n",
    "y_pred"
   ]
  },
  {
   "cell_type": "code",
   "execution_count": 6,
   "metadata": {},
   "outputs": [
    {
     "data": {
      "text/plain": [
       "(0.9448275862068966, 0.9448275862068966, 0.9448275862068966)"
      ]
     },
     "execution_count": 6,
     "metadata": {},
     "output_type": "execute_result"
    }
   ],
   "source": [
    "cf_matrix = confusion_matrix(y_val, y_pred)\n",
    "f1 = f1_score(y_val, y_pred, average='micro')\n",
    "recall = recall_score(y_val, y_pred, average='micro')\n",
    "precision = precision_score(y_val, y_pred, average='micro')\n",
    "f1, recall, precision"
   ]
  },
  {
   "cell_type": "code",
   "execution_count": 7,
   "metadata": {},
   "outputs": [
    {
     "data": {
      "text/plain": [
       "<AxesSubplot:title={'center':'Confusion Matrix - Spanish Sign Language'}>"
      ]
     },
     "execution_count": 7,
     "metadata": {},
     "output_type": "execute_result"
    },
    {
     "data": {
      "image/png": "[encoded data removed]",
      "text/plain": [
       "<Figure size 1080x1080 with 2 Axes>"
      ]
     },
     "metadata": {
      "needs_background": "light"
     },
     "output_type": "display_data"
    }
   ],
   "source": [
    "labels = ['A', 'B', 'C', 'D','E', 'F', 'G', 'H ', 'I', 'K','L' , 'M','N','O','P','Q','R','S', 'T', 'U', 'V', 'W', 'X', 'Y']\n",
    "\n",
    "fig, ax = plt.subplots(figsize=(15, 15))\n",
    "\n",
    "ax.set_title(\"Confusion Matrix - Spanish Sign Language\")\n",
    "\n",
    "maping = sns.heatmap(cf_matrix, \n",
    "                     annot=True,\n",
    "                     cmap = plt.cm.Blues, \n",
    "                     linewidths=.2,\n",
    "                     xticklabels=labels,\n",
    "                     yticklabels=labels, vmax=8,\n",
    "                     fmt='g',\n",
    "                     ax=ax\n",
    "                    )\n",
    "maping"
   ]
  },
  {
   "cell_type": "code",
   "execution_count": 8,
   "metadata": {},
   "outputs": [
    {
     "data": {
      "text/plain": [
       "array(['G', 'T', 'U', 'V', 'U', 'S', 'F', 'E', 'V', 'X', 'E', 'I', 'F',\n",
       "       'E', 'K', 'H', 'R', 'O', 'V', 'R', 'E', 'U', 'Q', 'P', 'X', 'Q',\n",
       "       'E', 'I', 'H', 'C', 'S', 'C', 'H', 'Y', 'Y', 'N', 'U', 'E', 'B',\n",
       "       'E', 'B', 'H', 'Q', 'L', 'O', 'A', 'X', 'E', 'A', 'E', 'I', 'X',\n",
       "       'D', 'Y', 'W', 'E', 'C', 'X', 'S', 'B', 'M', 'H', 'L', 'I', 'E',\n",
       "       'I', 'Y', 'U', 'G', 'S', 'W', 'M', 'K', 'A', 'P', 'H', 'E', 'D',\n",
       "       'A', 'F', 'L', 'W', 'B', 'S', 'E', 'Y', 'A', 'O', 'N', 'L', 'R',\n",
       "       'A', 'C', 'R', 'A', 'G', 'G', 'N', 'L', 'S', 'O', 'L', 'N', 'E',\n",
       "       'X', 'T', 'A', 'T', 'F', 'B', 'Y', 'O', 'Q', 'E', 'C', 'I', 'H',\n",
       "       'X', 'O', 'I', 'I', 'K', 'O', 'K', 'R', 'U', 'U', 'S', 'U', 'V',\n",
       "       'O', 'O', 'W', 'R', 'G', 'L', 'O', 'L', 'I', 'I', 'N', 'O', 'C',\n",
       "       'U', 'I', 'D', 'Y', 'U', 'K', 'O', 'E', 'W', 'O', 'S', 'V', 'K',\n",
       "       'D', 'U', 'X', 'U', 'S', 'F', 'O', 'L', 'B', 'K', 'S', 'I', 'P',\n",
       "       'I', 'D', 'F', 'N', 'N', 'W', 'I', 'F', 'K', 'X', 'D', 'B', 'R',\n",
       "       'O', 'U', 'L', 'T', 'B', 'H', 'E', 'Y', 'E', 'I', 'K', 'W', 'F',\n",
       "       'S', 'I', 'D', 'Y', 'I', 'L', 'O', 'A', 'I', 'O', 'A', 'I', 'G',\n",
       "       'E', 'S', 'N', 'A', 'K', 'N', 'T', 'T', 'V', 'P', 'Y', 'A', 'B',\n",
       "       'Q', 'L', 'W', 'B', 'O', 'U', 'U', 'L', 'P', 'U', 'W', 'Q', 'W',\n",
       "       'Q', 'V', 'I', 'L', 'T', 'F', 'N', 'X', 'G', 'I', 'E', 'D', 'I',\n",
       "       'O', 'K', 'O', 'F', 'G', 'G', 'U', 'U', 'C', 'X', 'L', 'O', 'E',\n",
       "       'Q', 'V', 'O', 'I', 'T', 'S', 'C', 'Y', 'X', 'I', 'S', 'M', 'A',\n",
       "       'N', 'H', 'I', 'I', 'S', 'I', 'O', 'A', 'Y', 'O', 'F', 'X', 'E',\n",
       "       'E', 'R', 'D', 'Q', 'M', 'I', 'O', 'U', 'S', 'Y', 'Y', 'P', 'W',\n",
       "       'T', 'I', 'E', 'K', 'I', 'X', 'K', 'H', 'X', 'O', 'I', 'D', 'A',\n",
       "       'O', 'G', 'K', 'N', 'C', 'Q', 'C', 'I', 'O', 'O', 'A', 'A', 'C',\n",
       "       'I', 'C', 'F', 'H', 'U', 'Y', 'G', 'A', 'O', 'E', 'X', 'Q', 'K',\n",
       "       'V', 'P', 'P', 'U', 'H', 'G', 'V', 'B', 'Q', 'T', 'D', 'S', 'V',\n",
       "       'A', 'N', 'Y', 'R', 'C', 'Y', 'E', 'C', 'U', 'B', 'E', 'M', 'O',\n",
       "       'L', 'R', 'N', 'E', 'G', 'Y', 'Q', 'A', 'S', 'N', 'D', 'Y', 'E',\n",
       "       'T', 'X', 'A', 'I', 'S', 'F', 'R', 'O', 'A', 'M', 'X', 'U', 'A',\n",
       "       'E', 'E', 'A', 'O', 'A', 'P', 'D', 'M', 'A', 'Y', 'L', 'Y', 'P',\n",
       "       'B', 'E', 'K', 'F', 'V', 'R', 'A', 'R', 'I', 'F', 'C', 'U', 'M',\n",
       "       'T', 'M', 'C', 'E', 'L', 'X', 'Q', 'E', 'T', 'F', 'M', 'Y', 'N',\n",
       "       'F', 'E', 'X', 'E', 'E', 'L', 'I', 'Q', 'P', 'T', 'H', 'U', 'U',\n",
       "       'M', 'B', 'L', 'A', 'I', 'I', 'B', 'I', 'A', 'T', 'X', 'S', 'E',\n",
       "       'O', 'A', 'O', 'T', 'A', 'U', 'U', 'Q', 'A', 'I', 'M', 'M', 'F',\n",
       "       'Q', 'E', 'A', 'O', 'R', 'M', 'U', 'U', 'C', 'A', 'L', 'A', 'S',\n",
       "       'W', 'H', 'K', 'O', 'E', 'S', 'M', 'S', 'A', 'N', 'O', 'N', 'R',\n",
       "       'P', 'O', 'G', 'I', 'W', 'V', 'O', 'X', 'U', 'B', 'G', 'W', 'P',\n",
       "       'H', 'O', 'D', 'X', 'F', 'X', 'W', 'Q', 'U', 'Q', 'U', 'X', 'I',\n",
       "       'O', 'V', 'B', 'L', 'R', 'V', 'A', 'M', 'I', 'U', 'K', 'S', 'X',\n",
       "       'L', 'N', 'N', 'S', 'E', 'F', 'U', 'I', 'A', 'Y', 'O', 'R', 'O',\n",
       "       'O', 'G', 'G', 'O', 'T', 'M', 'D', 'K', 'G', 'W', 'I', 'P', 'D',\n",
       "       'P', 'R', 'B', 'F', 'L', 'F', 'O', 'Y', 'H', 'A', 'Y', 'S', 'I',\n",
       "       'B', 'K', 'H', 'K', 'X', 'Q', 'A', 'E'], dtype=object)"
      ]
     },
     "execution_count": 8,
     "metadata": {},
     "output_type": "execute_result"
    }
   ],
   "source": [
    "np.array(y_val)"
   ]
  },
  {
   "cell_type": "code",
   "execution_count": 9,
   "metadata": {},
   "outputs": [
    {
     "data": {
      "text/plain": [
       "array(['G', 'T', 'U', 'V', 'U', 'N', 'F', 'E', 'V', 'X', 'E', 'I', 'F',\n",
       "       'E', 'K', 'H', 'R', 'O', 'V', 'U', 'E', 'U', 'Q', 'P', 'X', 'I',\n",
       "       'E', 'I', 'H', 'C', 'I', 'C', 'H', 'Y', 'I', 'N', 'U', 'E', 'B',\n",
       "       'E', 'B', 'H', 'Q', 'L', 'O', 'A', 'X', 'E', 'A', 'E', 'I', 'X',\n",
       "       'D', 'Y', 'W', 'E', 'O', 'X', 'S', 'B', 'M', 'H', 'L', 'I', 'E',\n",
       "       'I', 'Y', 'U', 'G', 'I', 'W', 'M', 'K', 'A', 'P', 'H', 'E', 'D',\n",
       "       'A', 'F', 'L', 'W', 'B', 'S', 'E', 'Y', 'A', 'O', 'N', 'L', 'U',\n",
       "       'A', 'C', 'R', 'A', 'G', 'G', 'T', 'L', 'S', 'O', 'L', 'N', 'E',\n",
       "       'X', 'T', 'A', 'T', 'F', 'B', 'Y', 'O', 'Q', 'E', 'C', 'I', 'H',\n",
       "       'X', 'O', 'I', 'I', 'K', 'O', 'K', 'R', 'U', 'U', 'N', 'U', 'V',\n",
       "       'O', 'O', 'W', 'R', 'G', 'L', 'O', 'L', 'I', 'I', 'I', 'O', 'C',\n",
       "       'U', 'I', 'D', 'Y', 'U', 'K', 'O', 'E', 'W', 'O', 'S', 'V', 'K',\n",
       "       'D', 'U', 'X', 'U', 'S', 'F', 'O', 'L', 'B', 'K', 'S', 'I', 'P',\n",
       "       'I', 'D', 'F', 'N', 'N', 'W', 'I', 'F', 'K', 'X', 'D', 'B', 'R',\n",
       "       'O', 'U', 'L', 'T', 'B', 'H', 'E', 'Y', 'E', 'I', 'K', 'W', 'F',\n",
       "       'S', 'I', 'I', 'Y', 'I', 'L', 'O', 'A', 'I', 'O', 'A', 'I', 'G',\n",
       "       'E', 'N', 'I', 'A', 'K', 'S', 'T', 'T', 'I', 'P', 'Y', 'A', 'B',\n",
       "       'Q', 'L', 'W', 'B', 'O', 'U', 'U', 'L', 'P', 'U', 'W', 'I', 'W',\n",
       "       'Q', 'V', 'I', 'L', 'T', 'F', 'N', 'X', 'I', 'I', 'E', 'D', 'I',\n",
       "       'O', 'K', 'O', 'F', 'G', 'G', 'U', 'U', 'C', 'X', 'L', 'O', 'E',\n",
       "       'I', 'V', 'O', 'I', 'T', 'S', 'C', 'Y', 'X', 'I', 'S', 'M', 'A',\n",
       "       'N', 'H', 'I', 'I', 'I', 'I', 'O', 'A', 'Y', 'I', 'F', 'X', 'E',\n",
       "       'E', 'U', 'D', 'Q', 'M', 'I', 'O', 'U', 'I', 'Y', 'Y', 'P', 'W',\n",
       "       'T', 'I', 'E', 'K', 'I', 'X', 'K', 'H', 'X', 'O', 'I', 'D', 'A',\n",
       "       'O', 'G', 'K', 'N', 'C', 'Q', 'C', 'I', 'O', 'O', 'A', 'A', 'C',\n",
       "       'I', 'C', 'F', 'H', 'U', 'Y', 'G', 'A', 'O', 'E', 'X', 'Q', 'K',\n",
       "       'V', 'P', 'I', 'U', 'H', 'G', 'V', 'B', 'Q', 'T', 'D', 'S', 'V',\n",
       "       'A', 'N', 'Y', 'R', 'C', 'Y', 'E', 'C', 'U', 'B', 'E', 'M', 'O',\n",
       "       'L', 'R', 'N', 'E', 'G', 'Y', 'Q', 'A', 'S', 'N', 'D', 'Y', 'E',\n",
       "       'T', 'X', 'A', 'I', 'S', 'F', 'R', 'O', 'A', 'M', 'X', 'U', 'A',\n",
       "       'E', 'E', 'A', 'O', 'A', 'P', 'D', 'M', 'A', 'Y', 'L', 'Y', 'P',\n",
       "       'B', 'E', 'R', 'F', 'V', 'R', 'A', 'R', 'I', 'F', 'C', 'U', 'M',\n",
       "       'T', 'M', 'C', 'E', 'L', 'X', 'Q', 'E', 'T', 'F', 'M', 'Y', 'N',\n",
       "       'F', 'E', 'X', 'E', 'E', 'L', 'I', 'I', 'P', 'T', 'H', 'U', 'U',\n",
       "       'M', 'B', 'L', 'A', 'I', 'I', 'B', 'I', 'A', 'T', 'X', 'I', 'E',\n",
       "       'O', 'A', 'O', 'T', 'A', 'U', 'U', 'Q', 'A', 'I', 'M', 'M', 'F',\n",
       "       'Q', 'E', 'A', 'O', 'R', 'M', 'U', 'U', 'C', 'A', 'L', 'A', 'I',\n",
       "       'W', 'H', 'K', 'O', 'E', 'S', 'M', 'I', 'A', 'N', 'O', 'N', 'R',\n",
       "       'P', 'O', 'G', 'I', 'W', 'V', 'O', 'X', 'U', 'B', 'G', 'W', 'P',\n",
       "       'H', 'O', 'D', 'X', 'F', 'X', 'W', 'Q', 'U', 'I', 'U', 'X', 'I',\n",
       "       'O', 'V', 'B', 'L', 'I', 'V', 'A', 'M', 'I', 'U', 'K', 'I', 'X',\n",
       "       'L', 'N', 'N', 'S', 'E', 'F', 'U', 'I', 'A', 'Y', 'O', 'R', 'O',\n",
       "       'O', 'G', 'G', 'O', 'T', 'M', 'D', 'K', 'G', 'W', 'I', 'P', 'D',\n",
       "       'P', 'R', 'B', 'F', 'L', 'F', 'O', 'Y', 'H', 'A', 'Y', 'S', 'I',\n",
       "       'B', 'K', 'H', 'K', 'X', 'Q', 'A', 'E'], dtype=object)"
      ]
     },
     "execution_count": 9,
     "metadata": {},
     "output_type": "execute_result"
    }
   ],
   "source": [
    "np.array(y_pred)"
   ]
  },
  {
   "cell_type": "code",
   "execution_count": 10,
   "metadata": {},
   "outputs": [
    {
     "data": {
      "text/plain": [
       "array([ True,  True,  True,  True,  True, False,  True,  True,  True,\n",
       "        True,  True,  True,  True,  True,  True,  True,  True,  True,\n",
       "        True, False,  True,  True,  True,  True,  True, False,  True,\n",
       "        True,  True,  True, False,  True,  True,  True, False,  True,\n",
       "        True,  True,  True,  True,  True,  True,  True,  True,  True,\n",
       "        True,  True,  True,  True,  True,  True,  True,  True,  True,\n",
       "        True,  True, False,  True,  True,  True,  True,  True,  True,\n",
       "        True,  True,  True,  True,  True,  True, False,  True,  True,\n",
       "        True,  True,  True,  True,  True,  True,  True,  True,  True,\n",
       "        True,  True,  True,  True,  True,  True,  True,  True,  True,\n",
       "       False,  True,  True,  True,  True,  True,  True, False,  True,\n",
       "        True,  True,  True,  True,  True,  True,  True,  True,  True,\n",
       "        True,  True,  True,  True,  True,  True,  True,  True,  True,\n",
       "        True,  True,  True,  True,  True,  True,  True,  True,  True,\n",
       "        True, False,  True,  True,  True,  True,  True,  True,  True,\n",
       "        True,  True,  True,  True,  True, False,  True,  True,  True,\n",
       "        True,  True,  True,  True,  True,  True,  True,  True,  True,\n",
       "        True,  True,  True,  True,  True,  True,  True,  True,  True,\n",
       "        True,  True,  True,  True,  True,  True,  True,  True,  True,\n",
       "        True,  True,  True,  True,  True,  True,  True,  True,  True,\n",
       "        True,  True,  True,  True,  True,  True,  True,  True,  True,\n",
       "        True,  True,  True,  True,  True,  True,  True,  True, False,\n",
       "        True,  True,  True,  True,  True,  True,  True,  True,  True,\n",
       "        True,  True, False, False,  True,  True, False,  True,  True,\n",
       "       False,  True,  True,  True,  True,  True,  True,  True,  True,\n",
       "        True,  True,  True,  True,  True,  True,  True, False,  True,\n",
       "        True,  True,  True,  True,  True,  True,  True,  True, False,\n",
       "        True,  True,  True,  True,  True,  True,  True,  True,  True,\n",
       "        True,  True,  True,  True,  True,  True,  True,  True, False,\n",
       "        True,  True,  True,  True,  True,  True,  True,  True,  True,\n",
       "        True,  True,  True,  True,  True,  True,  True, False,  True,\n",
       "        True,  True,  True, False,  True,  True,  True,  True, False,\n",
       "        True,  True,  True,  True,  True,  True, False,  True,  True,\n",
       "        True,  True,  True,  True,  True,  True,  True,  True,  True,\n",
       "        True,  True,  True,  True,  True,  True,  True,  True,  True,\n",
       "        True,  True,  True,  True,  True,  True,  True,  True,  True,\n",
       "        True,  True,  True,  True,  True,  True,  True,  True,  True,\n",
       "        True,  True,  True,  True,  True,  True,  True, False,  True,\n",
       "        True,  True,  True,  True,  True,  True,  True,  True,  True,\n",
       "        True,  True,  True,  True,  True,  True,  True,  True,  True,\n",
       "        True,  True,  True,  True,  True,  True,  True,  True,  True,\n",
       "        True,  True,  True,  True,  True,  True,  True,  True,  True,\n",
       "        True,  True,  True,  True,  True,  True,  True,  True,  True,\n",
       "        True,  True,  True,  True,  True,  True,  True,  True,  True,\n",
       "        True,  True,  True,  True,  True,  True,  True,  True,  True,\n",
       "       False,  True,  True,  True,  True,  True,  True,  True,  True,\n",
       "        True,  True,  True,  True,  True,  True,  True,  True,  True,\n",
       "        True,  True,  True,  True,  True,  True,  True,  True,  True,\n",
       "        True,  True,  True,  True, False,  True,  True,  True,  True,\n",
       "        True,  True,  True,  True,  True,  True,  True,  True,  True,\n",
       "        True,  True,  True, False,  True,  True,  True,  True,  True,\n",
       "        True,  True,  True,  True,  True,  True,  True,  True,  True,\n",
       "        True,  True,  True,  True,  True,  True,  True,  True,  True,\n",
       "        True,  True,  True, False,  True,  True,  True,  True,  True,\n",
       "        True,  True, False,  True,  True,  True,  True,  True,  True,\n",
       "        True,  True,  True,  True,  True,  True,  True,  True,  True,\n",
       "        True,  True,  True,  True,  True,  True,  True,  True,  True,\n",
       "        True,  True,  True, False,  True,  True,  True,  True,  True,\n",
       "        True,  True, False,  True,  True,  True,  True,  True,  True,\n",
       "       False,  True,  True,  True,  True,  True,  True,  True,  True,\n",
       "        True,  True,  True,  True,  True,  True,  True,  True,  True,\n",
       "        True,  True,  True,  True,  True,  True,  True,  True,  True,\n",
       "        True,  True,  True,  True,  True,  True,  True,  True,  True,\n",
       "        True,  True,  True,  True,  True,  True,  True,  True,  True,\n",
       "        True,  True,  True,  True])"
      ]
     },
     "execution_count": 10,
     "metadata": {},
     "output_type": "execute_result"
    }
   ],
   "source": [
    "np.array(y_pred == y_val)"
   ]
  },
  {
   "cell_type": "code",
   "execution_count": 11,
   "metadata": {},
   "outputs": [],
   "source": [
    "with open('/model/SVC_model.pkl','wb') as fw:\n",
    "    pickle.dump(svm,fw)"
   ]
  },
  {
   "cell_type": "code",
   "execution_count": null,
   "metadata": {},
   "outputs": [],
   "source": []
  }
 ],
 "metadata": {
  "interpreter": {
   "hash": "32f2fe102a4f10662d8c13f75131e1ba377b7194060421a642fdea27c55fc65a"
  },
  "kernelspec": {
   "display_name": "Python 3.10.0 64-bit",
   "language": "python",
   "name": "python3"
  },
  "language_info": {
   "codemirror_mode": {
    "name": "ipython",
    "version": 3
   },
   "file_extension": ".py",
   "mimetype": "text/x-python",
   "name": "python",
   "nbconvert_exporter": "python",
   "pygments_lexer": "ipython3",
   "version": "3.10.0"
  }
 },
 "nbformat": 4,
 "nbformat_minor": 2
}
