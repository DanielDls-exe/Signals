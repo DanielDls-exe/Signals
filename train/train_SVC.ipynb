{
 "cells": [
  {
   "cell_type": "code",
   "execution_count": 1,
   "metadata": {},
   "outputs": [],
   "source": [
    "from train_test_split import generated_tts\n",
    "from train_test_split import path_act"
   ]
  },
  {
   "cell_type": "code",
   "execution_count": 2,
   "metadata": {},
   "outputs": [],
   "source": [
    "from sklearn.metrics import accuracy_score, confusion_matrix, classification_report, f1_score, recall_score, precision_score\n",
    "import seaborn as sns\n",
    "import matplotlib.pyplot as plt\n",
    "import numpy as np\n",
    "from sklearn.svm import SVC\n",
    "import pickle"
   ]
  },
  {
   "cell_type": "code",
   "execution_count": 3,
   "metadata": {},
   "outputs": [],
   "source": [
    "X_train, X_val, y_train, y_val = generated_tts()"
   ]
  },
  {
   "cell_type": "code",
   "execution_count": 4,
   "metadata": {},
   "outputs": [
    {
     "data": {
      "text/plain": [
       "SVC(C=10)"
      ]
     },
     "execution_count": 4,
     "metadata": {},
     "output_type": "execute_result"
    }
   ],
   "source": [
    "svm = SVC(C=10)\n",
    "svm.fit(X_train, y_train)"
   ]
  },
  {
   "cell_type": "code",
   "execution_count": 5,
   "metadata": {},
   "outputs": [
    {
     "data": {
      "text/plain": [
       "array(['K', 'H', 'K', 'C', 'C', 'L', 'D', 'H', 'I', 'L', 'U', 'A', 'G',\n",
       "       'L', 'W', 'H', 'M', 'K', 'I', 'O', 'D', 'E', 'O', 'T', 'C', 'I',\n",
       "       'E', 'V', 'C', 'C', 'E', 'A', 'E', 'F', 'I', 'I', 'B', 'A', 'F',\n",
       "       'W', 'O', 'Y', 'D', 'E', 'P', 'I', 'I', 'O', 'O', 'G', 'Y', 'Q',\n",
       "       'O', 'I', 'C', 'I', 'C', 'C', 'O', 'U', 'O', 'Y', '5', 'K', 'P',\n",
       "       'X', 'K', 'U', 'G', 'I', 'L', 'A', 'I', '5', 'L', 'R', 'B', 'N',\n",
       "       'G', 'E', 'A', 'O', 'O', 'A', 'I', 'C', 'U', '5', 'O', 'K', 'T',\n",
       "       'U', 'R', 'U', 'A', 'O', 'N', 'K', 'U', 'M', 'C', 'D', 'G', 'F',\n",
       "       'E', 'F', 'R', 'N', 'Y', 'P', 'M', 'P', 'W', 'U', 'Y', 'W', 'Q',\n",
       "       'I', 'H', 'R', 'W', 'C', 'F', 'G', 'K', 'W', 'V', 'P', 'H', 'H',\n",
       "       'M', 'M', 'F', 'X', 'X', 'U', 'T', 'B', 'M', 'R', 'K', 'O', 'A',\n",
       "       'K', 'P', 'U', 'M', 'M', 'I', 'A', 'T', 'T', 'V', 'T', 'L', 'V',\n",
       "       'A', 'N', 'A', 'M', 'C', 'O', 'P', 'D', 'Q', 'X', 'G', 'A', 'D',\n",
       "       'H', '5', 'T', 'Y', 'N', 'R', 'X', 'I', 'R', 'U', 'L', 'S', 'H',\n",
       "       'M', 'I', 'S', 'L', 'W', 'N', 'I', 'R', 'I', 'X', 'B', 'Y', 'A',\n",
       "       'O', 'V', 'T', 'L', 'U', 'C', 'L', 'H', 'M', 'G', 'M', 'E', 'B',\n",
       "       'D', 'O', 'Y', 'A', 'D', 'R', '5', 'O', 'S', 'C', 'D', 'G', 'U',\n",
       "       'B', 'I', 'N', 'U', 'I', 'G', 'M', 'E', 'E', 'D', 'I', 'N', 'E',\n",
       "       'O', 'B', 'R', 'U', 'I', 'W', 'E', 'X', 'I', 'E', '5', 'X', 'Q',\n",
       "       'O', 'T', 'G', 'K', 'E', '5', 'X', 'A', 'E', 'R', 'T', 'K', 'C',\n",
       "       'D', 'A', 'M', 'D', 'A', 'O', 'L', 'W', 'Y', 'G', 'U', 'A', 'A',\n",
       "       'O', 'H', 'U', 'T', 'E', 'I', 'C', 'R', 'D', 'B', 'T', 'I', 'W',\n",
       "       'U', 'O', 'E', 'E', '5', 'K', 'I', 'D', 'K', 'R', 'D', 'W', 'K',\n",
       "       'E', 'L', 'U', 'G', 'E', 'P', 'S', 'M', 'V', 'V', 'O', 'I', 'K',\n",
       "       'H', '5', 'F', 'I', 'A', 'V', 'X', 'L', 'X', 'I', 'I', 'Y', 'O',\n",
       "       'A', 'V', 'H', 'E', 'Y', '5', 'R', 'F', 'V', 'K', 'Q', 'G', 'L',\n",
       "       'S', 'L', 'M', 'K', 'L', 'B', 'N', 'I', 'Y', 'O', 'B', 'E', 'R',\n",
       "       'B', 'U', 'A', 'O', 'I', 'H', 'K', 'R', 'B', 'B', 'I', 'U', 'G',\n",
       "       'L', 'G', 'F', 'N', 'B', 'N', 'C', 'G', 'U', 'L', 'H', 'Y', 'B',\n",
       "       'K', 'Q', 'E', 'I', 'A', 'O', 'I', 'P', 'H', 'Y', 'I', 'I', 'P',\n",
       "       'P', 'W', 'I', 'R', 'L', 'X', '5', 'L', 'E', 'Y', 'U', 'A', 'A',\n",
       "       'O', 'A', 'G', 'E', 'Q', 'U', 'S', 'H', 'E', 'X', '5', 'L', 'T',\n",
       "       'R', '5', 'K', 'E', 'C', 'D', 'T', 'M', 'U', 'F', 'I', 'W', 'F',\n",
       "       'U', 'N', 'P', 'U', 'O', 'H', 'N', 'V', 'U', 'I', 'I', 'H', 'F',\n",
       "       'S', 'I', 'I', 'T', 'Y', 'O', 'K', 'K', 'X', 'H', 'E', 'I', 'G',\n",
       "       'Y', 'K', 'X', 'E', 'V', 'V', '5', 'I', 'B', 'I', 'H', 'U', 'O',\n",
       "       'I', 'A', 'H', 'R', 'M', 'K', 'I', 'R', 'R', 'W', 'A', 'Y', 'S',\n",
       "       'I', 'A', '5', 'F', 'W', 'L', 'U', 'I', 'U', 'X', 'Y', 'C', 'M',\n",
       "       'A', 'I', 'M', 'I', 'L', 'X', 'U', 'G', 'E', 'P', 'U', 'E', 'T',\n",
       "       'U', 'K', 'D', 'L', 'Y', 'S', 'F', 'D', 'V', 'B', 'G', 'E', 'H',\n",
       "       'K', 'R', 'I', 'W', 'I', 'A', '5', 'I', 'L', 'L', 'A', 'B', 'I',\n",
       "       'H', 'X', 'O', 'K', 'V', 'M', 'U', 'I', 'U', 'T', 'D', 'V', 'E',\n",
       "       'X', 'E', 'U', 'S', 'E', 'U', 'O', 'I', 'L', 'U', 'M', 'O', 'A',\n",
       "       'M', 'T', 'U', 'E', 'A', 'S', 'T', 'Y', 'A', 'B', 'B', 'V', 'H',\n",
       "       'E', 'Q', 'I', 'H', 'H', 'H', 'O', 'E', 'M', 'L', 'I', 'L', 'U',\n",
       "       '5', 'O', 'U', 'C', 'A', 'I', 'A', 'U', 'U', 'W', 'U', 'I', 'S',\n",
       "       'D', 'A'], dtype=object)"
      ]
     },
     "execution_count": 5,
     "metadata": {},
     "output_type": "execute_result"
    }
   ],
   "source": [
    "y_pred = svm.predict(X_val)\n",
    "y_pred"
   ]
  },
  {
   "cell_type": "code",
   "execution_count": 6,
   "metadata": {},
   "outputs": [
    {
     "data": {
      "text/plain": [
       "(0.9533333333333334, 0.9533333333333334, 0.9533333333333334)"
      ]
     },
     "execution_count": 6,
     "metadata": {},
     "output_type": "execute_result"
    }
   ],
   "source": [
    "cf_matrix = confusion_matrix(y_val, y_pred)\n",
    "f1 = f1_score(y_val, y_pred, average='micro')\n",
    "recall = recall_score(y_val, y_pred, average='micro')\n",
    "precision = precision_score(y_val, y_pred, average='micro')\n",
    "f1, recall, precision"
   ]
  },
  {
   "cell_type": "code",
   "execution_count": 7,
   "metadata": {},
   "outputs": [
    {
     "data": {
      "text/plain": [
       "<AxesSubplot:title={'center':'Confusion Matrix - Spanish Sign Language'}>"
      ]
     },
     "execution_count": 7,
     "metadata": {},
     "output_type": "execute_result"
    },
    {
     "data": {
      "image/png": "[encoded data removed]",
      "text/plain": [
       "<Figure size 1080x1080 with 2 Axes>"
      ]
     },
     "metadata": {
      "needs_background": "light"
     },
     "output_type": "display_data"
    }
   ],
   "source": [
    "labels = ['A', 'B', 'C', 'D','E', 'F', 'G', 'H ', 'I', 'K','L' , 'M','N','O','P','Q','R','S', 'T', 'U', 'V', 'W', 'X', 'Y', '5']\n",
    "\n",
    "fig, ax = plt.subplots(figsize=(15, 15))\n",
    "\n",
    "ax.set_title(\"Confusion Matrix - Spanish Sign Language\")\n",
    "\n",
    "maping = sns.heatmap(cf_matrix, \n",
    "                     annot=True,\n",
    "                     cmap = plt.cm.Blues, \n",
    "                     linewidths=.2,\n",
    "                     xticklabels=labels,\n",
    "                     yticklabels=labels, vmax=8,\n",
    "                     fmt='g',\n",
    "                     ax=ax\n",
    "                    )\n",
    "maping"
   ]
  },
  {
   "cell_type": "code",
   "execution_count": 8,
   "metadata": {},
   "outputs": [
    {
     "data": {
      "text/plain": [
       "array(['K', 'H', 'K', 'C', 'C', 'L', 'D', 'H', 'I', 'L', 'U', 'A', 'G',\n",
       "       'L', 'W', 'H', 'M', 'K', 'I', 'O', 'D', 'E', 'O', 'T', 'C', 'N',\n",
       "       'E', 'V', 'C', 'C', 'E', 'A', 'E', 'F', 'A', 'I', 'B', 'A', 'F',\n",
       "       'W', 'O', 'Y', 'D', 'E', 'P', 'N', 'I', 'O', 'O', 'G', 'Y', 'Q',\n",
       "       'O', 'Q', 'C', 'I', 'C', 'C', 'O', 'U', 'O', 'Y', '5', 'K', 'P',\n",
       "       'X', 'K', 'R', 'G', 'N', 'L', 'A', 'I', '5', 'L', 'R', 'B', 'N',\n",
       "       'G', 'E', 'A', 'O', 'O', 'A', 'Y', 'C', 'U', '5', 'O', 'K', 'T',\n",
       "       'U', 'R', 'U', 'A', 'O', 'N', 'K', 'U', 'M', 'C', 'D', 'G', 'F',\n",
       "       'E', 'F', 'R', 'N', 'Y', 'P', 'M', 'P', 'W', 'U', 'Y', 'W', 'Q',\n",
       "       'Q', 'H', 'R', 'W', 'C', 'F', 'G', 'K', 'W', 'V', 'P', 'H', 'H',\n",
       "       'M', 'M', 'F', 'X', 'X', 'U', 'T', 'B', 'M', 'R', 'K', 'O', 'A',\n",
       "       'K', 'P', 'U', 'M', 'M', 'I', 'A', 'T', 'T', 'V', 'T', 'L', 'V',\n",
       "       'A', 'N', 'A', 'M', 'C', 'O', 'P', 'D', 'Q', 'X', 'G', 'A', 'D',\n",
       "       'H', '5', 'T', 'Y', 'N', 'R', 'X', 'I', 'R', 'U', 'L', 'S', 'H',\n",
       "       'M', 'I', 'S', 'L', 'W', 'N', 'B', 'R', 'I', 'X', 'B', 'Y', 'A',\n",
       "       'O', 'V', 'T', 'L', 'U', 'C', 'L', 'H', 'M', 'G', 'M', 'E', 'B',\n",
       "       'D', 'O', 'Y', 'A', 'D', 'R', '5', 'O', 'S', 'C', 'D', 'G', 'U',\n",
       "       'B', 'I', 'N', 'U', 'I', 'G', 'M', 'E', 'E', 'D', 'I', 'N', 'E',\n",
       "       'O', 'B', 'R', 'U', 'I', 'W', 'E', 'X', 'Q', 'E', '5', 'X', 'Q',\n",
       "       'O', 'N', 'G', 'K', 'E', '5', 'X', 'A', 'E', 'R', 'T', 'K', 'C',\n",
       "       'D', 'A', 'M', 'D', 'A', 'O', 'L', 'W', 'Y', 'G', 'U', 'A', 'A',\n",
       "       'O', 'H', 'U', 'T', 'E', 'I', 'C', 'R', 'D', 'B', 'T', 'I', 'W',\n",
       "       'R', 'O', 'E', 'E', '5', 'K', 'I', 'D', 'K', 'R', 'D', 'W', 'K',\n",
       "       'E', 'L', 'U', 'G', 'E', 'P', 'S', 'M', 'V', 'V', 'O', 'I', 'K',\n",
       "       'H', '5', 'F', 'Y', 'A', 'V', 'X', 'L', 'X', 'I', 'I', 'Y', 'O',\n",
       "       'A', 'V', 'H', 'E', 'Y', '5', 'R', 'F', 'V', 'K', 'Q', 'G', 'L',\n",
       "       'S', 'L', 'M', 'K', 'L', 'B', 'N', 'Q', 'Y', 'O', 'B', 'E', 'R',\n",
       "       'B', 'U', 'A', 'O', 'I', 'H', 'K', 'R', 'B', 'B', 'I', 'U', 'G',\n",
       "       'L', 'G', 'F', 'N', 'B', 'N', 'C', 'G', 'U', 'L', 'H', 'Y', 'B',\n",
       "       'K', 'Q', 'E', 'I', 'A', 'O', 'I', 'P', 'H', 'Y', 'I', 'I', 'P',\n",
       "       'P', 'W', 'I', 'R', 'L', 'X', '5', 'L', 'E', 'Y', 'U', 'A', 'A',\n",
       "       'O', 'A', 'G', 'E', 'Q', 'U', 'S', 'H', 'E', 'X', '5', 'L', 'T',\n",
       "       'R', '5', 'K', 'E', 'C', 'D', 'T', 'M', 'U', 'F', 'S', 'W', 'F',\n",
       "       'U', 'N', 'P', 'U', 'O', 'H', 'N', 'V', 'U', 'N', 'I', 'H', 'F',\n",
       "       'S', 'N', 'I', 'T', 'Y', 'O', 'K', 'K', 'X', 'H', 'E', 'I', 'G',\n",
       "       'Y', 'K', 'X', 'E', 'V', 'V', '5', 'N', 'B', 'I', 'H', 'U', 'O',\n",
       "       'I', 'A', 'H', 'R', 'M', 'K', 'N', 'R', 'R', 'W', 'A', 'Y', 'S',\n",
       "       'S', 'A', '5', 'F', 'W', 'L', 'R', 'I', 'U', 'X', 'Y', 'C', 'M',\n",
       "       'A', 'A', 'M', 'I', 'L', 'X', 'U', 'G', 'E', 'P', 'U', 'E', 'T',\n",
       "       'U', 'K', 'D', 'L', 'Y', 'S', 'F', 'D', 'V', 'B', 'G', 'E', 'H',\n",
       "       'K', 'R', 'I', 'W', 'I', 'A', '5', 'I', 'L', 'L', 'A', 'B', 'S',\n",
       "       'H', 'X', 'O', 'K', 'V', 'M', 'U', 'I', 'U', 'T', 'D', 'V', 'E',\n",
       "       'X', 'E', 'U', 'S', 'E', 'U', 'O', 'S', 'L', 'U', 'M', 'O', 'A',\n",
       "       'M', 'T', 'U', 'E', 'A', 'S', 'T', 'Y', 'A', 'B', 'B', 'V', 'H',\n",
       "       'E', 'Q', 'I', 'H', 'H', 'H', 'O', 'E', 'M', 'L', 'V', 'L', 'V',\n",
       "       '5', 'O', 'R', 'C', 'A', 'I', 'A', 'U', 'U', 'W', 'U', 'Q', 'S',\n",
       "       'D', 'A'], dtype=object)"
      ]
     },
     "execution_count": 8,
     "metadata": {},
     "output_type": "execute_result"
    }
   ],
   "source": [
    "np.array(y_val)"
   ]
  },
  {
   "cell_type": "code",
   "execution_count": 9,
   "metadata": {},
   "outputs": [
    {
     "data": {
      "text/plain": [
       "array(['K', 'H', 'K', 'C', 'C', 'L', 'D', 'H', 'I', 'L', 'U', 'A', 'G',\n",
       "       'L', 'W', 'H', 'M', 'K', 'I', 'O', 'D', 'E', 'O', 'T', 'C', 'I',\n",
       "       'E', 'V', 'C', 'C', 'E', 'A', 'E', 'F', 'I', 'I', 'B', 'A', 'F',\n",
       "       'W', 'O', 'Y', 'D', 'E', 'P', 'I', 'I', 'O', 'O', 'G', 'Y', 'Q',\n",
       "       'O', 'I', 'C', 'I', 'C', 'C', 'O', 'U', 'O', 'Y', '5', 'K', 'P',\n",
       "       'X', 'K', 'U', 'G', 'I', 'L', 'A', 'I', '5', 'L', 'R', 'B', 'N',\n",
       "       'G', 'E', 'A', 'O', 'O', 'A', 'I', 'C', 'U', '5', 'O', 'K', 'T',\n",
       "       'U', 'R', 'U', 'A', 'O', 'N', 'K', 'U', 'M', 'C', 'D', 'G', 'F',\n",
       "       'E', 'F', 'R', 'N', 'Y', 'P', 'M', 'P', 'W', 'U', 'Y', 'W', 'Q',\n",
       "       'I', 'H', 'R', 'W', 'C', 'F', 'G', 'K', 'W', 'V', 'P', 'H', 'H',\n",
       "       'M', 'M', 'F', 'X', 'X', 'U', 'T', 'B', 'M', 'R', 'K', 'O', 'A',\n",
       "       'K', 'P', 'U', 'M', 'M', 'I', 'A', 'T', 'T', 'V', 'T', 'L', 'V',\n",
       "       'A', 'N', 'A', 'M', 'C', 'O', 'P', 'D', 'Q', 'X', 'G', 'A', 'D',\n",
       "       'H', '5', 'T', 'Y', 'N', 'R', 'X', 'I', 'R', 'U', 'L', 'S', 'H',\n",
       "       'M', 'I', 'S', 'L', 'W', 'N', 'I', 'R', 'I', 'X', 'B', 'Y', 'A',\n",
       "       'O', 'V', 'T', 'L', 'U', 'C', 'L', 'H', 'M', 'G', 'M', 'E', 'B',\n",
       "       'D', 'O', 'Y', 'A', 'D', 'R', '5', 'O', 'S', 'C', 'D', 'G', 'U',\n",
       "       'B', 'I', 'N', 'U', 'I', 'G', 'M', 'E', 'E', 'D', 'I', 'N', 'E',\n",
       "       'O', 'B', 'R', 'U', 'I', 'W', 'E', 'X', 'I', 'E', '5', 'X', 'Q',\n",
       "       'O', 'T', 'G', 'K', 'E', '5', 'X', 'A', 'E', 'R', 'T', 'K', 'C',\n",
       "       'D', 'A', 'M', 'D', 'A', 'O', 'L', 'W', 'Y', 'G', 'U', 'A', 'A',\n",
       "       'O', 'H', 'U', 'T', 'E', 'I', 'C', 'R', 'D', 'B', 'T', 'I', 'W',\n",
       "       'U', 'O', 'E', 'E', '5', 'K', 'I', 'D', 'K', 'R', 'D', 'W', 'K',\n",
       "       'E', 'L', 'U', 'G', 'E', 'P', 'S', 'M', 'V', 'V', 'O', 'I', 'K',\n",
       "       'H', '5', 'F', 'I', 'A', 'V', 'X', 'L', 'X', 'I', 'I', 'Y', 'O',\n",
       "       'A', 'V', 'H', 'E', 'Y', '5', 'R', 'F', 'V', 'K', 'Q', 'G', 'L',\n",
       "       'S', 'L', 'M', 'K', 'L', 'B', 'N', 'I', 'Y', 'O', 'B', 'E', 'R',\n",
       "       'B', 'U', 'A', 'O', 'I', 'H', 'K', 'R', 'B', 'B', 'I', 'U', 'G',\n",
       "       'L', 'G', 'F', 'N', 'B', 'N', 'C', 'G', 'U', 'L', 'H', 'Y', 'B',\n",
       "       'K', 'Q', 'E', 'I', 'A', 'O', 'I', 'P', 'H', 'Y', 'I', 'I', 'P',\n",
       "       'P', 'W', 'I', 'R', 'L', 'X', '5', 'L', 'E', 'Y', 'U', 'A', 'A',\n",
       "       'O', 'A', 'G', 'E', 'Q', 'U', 'S', 'H', 'E', 'X', '5', 'L', 'T',\n",
       "       'R', '5', 'K', 'E', 'C', 'D', 'T', 'M', 'U', 'F', 'I', 'W', 'F',\n",
       "       'U', 'N', 'P', 'U', 'O', 'H', 'N', 'V', 'U', 'I', 'I', 'H', 'F',\n",
       "       'S', 'I', 'I', 'T', 'Y', 'O', 'K', 'K', 'X', 'H', 'E', 'I', 'G',\n",
       "       'Y', 'K', 'X', 'E', 'V', 'V', '5', 'I', 'B', 'I', 'H', 'U', 'O',\n",
       "       'I', 'A', 'H', 'R', 'M', 'K', 'I', 'R', 'R', 'W', 'A', 'Y', 'S',\n",
       "       'I', 'A', '5', 'F', 'W', 'L', 'U', 'I', 'U', 'X', 'Y', 'C', 'M',\n",
       "       'A', 'I', 'M', 'I', 'L', 'X', 'U', 'G', 'E', 'P', 'U', 'E', 'T',\n",
       "       'U', 'K', 'D', 'L', 'Y', 'S', 'F', 'D', 'V', 'B', 'G', 'E', 'H',\n",
       "       'K', 'R', 'I', 'W', 'I', 'A', '5', 'I', 'L', 'L', 'A', 'B', 'I',\n",
       "       'H', 'X', 'O', 'K', 'V', 'M', 'U', 'I', 'U', 'T', 'D', 'V', 'E',\n",
       "       'X', 'E', 'U', 'S', 'E', 'U', 'O', 'I', 'L', 'U', 'M', 'O', 'A',\n",
       "       'M', 'T', 'U', 'E', 'A', 'S', 'T', 'Y', 'A', 'B', 'B', 'V', 'H',\n",
       "       'E', 'Q', 'I', 'H', 'H', 'H', 'O', 'E', 'M', 'L', 'I', 'L', 'U',\n",
       "       '5', 'O', 'U', 'C', 'A', 'I', 'A', 'U', 'U', 'W', 'U', 'I', 'S',\n",
       "       'D', 'A'], dtype=object)"
      ]
     },
     "execution_count": 9,
     "metadata": {},
     "output_type": "execute_result"
    }
   ],
   "source": [
    "np.array(y_pred)"
   ]
  },
  {
   "cell_type": "code",
   "execution_count": 10,
   "metadata": {},
   "outputs": [
    {
     "data": {
      "text/plain": [
       "array([ True,  True,  True,  True,  True,  True,  True,  True,  True,\n",
       "        True,  True,  True,  True,  True,  True,  True,  True,  True,\n",
       "        True,  True,  True,  True,  True,  True,  True, False,  True,\n",
       "        True,  True,  True,  True,  True,  True,  True, False,  True,\n",
       "        True,  True,  True,  True,  True,  True,  True,  True,  True,\n",
       "       False,  True,  True,  True,  True,  True,  True,  True, False,\n",
       "        True,  True,  True,  True,  True,  True,  True,  True,  True,\n",
       "        True,  True,  True,  True, False,  True, False,  True,  True,\n",
       "        True,  True,  True,  True,  True,  True,  True,  True,  True,\n",
       "        True,  True,  True, False,  True,  True,  True,  True,  True,\n",
       "        True,  True,  True,  True,  True,  True,  True,  True,  True,\n",
       "        True,  True,  True,  True,  True,  True,  True,  True,  True,\n",
       "        True,  True,  True,  True,  True,  True,  True,  True,  True,\n",
       "       False,  True,  True,  True,  True,  True,  True,  True,  True,\n",
       "        True,  True,  True,  True,  True,  True,  True,  True,  True,\n",
       "        True,  True,  True,  True,  True,  True,  True,  True,  True,\n",
       "        True,  True,  True,  True,  True,  True,  True,  True,  True,\n",
       "        True,  True,  True,  True,  True,  True,  True,  True,  True,\n",
       "        True,  True,  True,  True,  True,  True,  True,  True,  True,\n",
       "        True,  True,  True,  True,  True,  True,  True,  True,  True,\n",
       "        True,  True,  True,  True,  True,  True,  True,  True, False,\n",
       "        True,  True,  True,  True,  True,  True,  True,  True,  True,\n",
       "        True,  True,  True,  True,  True,  True,  True,  True,  True,\n",
       "        True,  True,  True,  True,  True,  True,  True,  True,  True,\n",
       "        True,  True,  True,  True,  True,  True,  True,  True,  True,\n",
       "        True,  True,  True,  True,  True,  True,  True,  True,  True,\n",
       "        True,  True,  True,  True,  True,  True,  True,  True, False,\n",
       "        True,  True,  True,  True,  True, False,  True,  True,  True,\n",
       "        True,  True,  True,  True,  True,  True,  True,  True,  True,\n",
       "        True,  True,  True,  True,  True,  True,  True,  True,  True,\n",
       "        True,  True,  True,  True,  True,  True,  True,  True,  True,\n",
       "        True,  True,  True,  True,  True,  True,  True, False,  True,\n",
       "        True,  True,  True,  True,  True,  True,  True,  True,  True,\n",
       "        True,  True,  True,  True,  True,  True,  True,  True,  True,\n",
       "        True,  True,  True,  True,  True,  True,  True,  True,  True,\n",
       "       False,  True,  True,  True,  True,  True,  True,  True,  True,\n",
       "        True,  True,  True,  True,  True,  True,  True,  True,  True,\n",
       "        True,  True,  True,  True,  True,  True,  True,  True,  True,\n",
       "        True,  True,  True, False,  True,  True,  True,  True,  True,\n",
       "        True,  True,  True,  True,  True,  True,  True,  True,  True,\n",
       "        True,  True,  True,  True,  True,  True,  True,  True,  True,\n",
       "        True,  True,  True,  True,  True,  True,  True,  True,  True,\n",
       "        True,  True,  True,  True,  True,  True,  True,  True,  True,\n",
       "        True,  True,  True,  True,  True,  True,  True,  True,  True,\n",
       "        True,  True,  True,  True,  True,  True,  True,  True,  True,\n",
       "        True,  True,  True,  True,  True,  True,  True,  True,  True,\n",
       "        True,  True,  True,  True,  True,  True,  True,  True,  True,\n",
       "        True,  True,  True, False,  True,  True,  True,  True,  True,\n",
       "        True,  True,  True,  True,  True,  True, False,  True,  True,\n",
       "        True,  True, False,  True,  True,  True,  True,  True,  True,\n",
       "        True,  True,  True,  True,  True,  True,  True,  True,  True,\n",
       "        True,  True,  True, False,  True,  True,  True,  True,  True,\n",
       "        True,  True,  True,  True,  True,  True, False,  True,  True,\n",
       "        True,  True,  True,  True, False,  True,  True,  True,  True,\n",
       "        True, False,  True,  True,  True,  True,  True,  True,  True,\n",
       "       False,  True,  True,  True,  True,  True,  True,  True,  True,\n",
       "        True,  True,  True,  True,  True,  True,  True,  True,  True,\n",
       "        True,  True,  True,  True,  True,  True,  True,  True,  True,\n",
       "        True,  True,  True,  True,  True,  True,  True,  True,  True,\n",
       "        True, False,  True,  True,  True,  True,  True,  True,  True,\n",
       "        True,  True,  True,  True,  True,  True,  True,  True,  True,\n",
       "        True,  True,  True,  True, False,  True,  True,  True,  True,\n",
       "        True,  True,  True,  True,  True,  True,  True,  True,  True,\n",
       "        True,  True,  True,  True,  True,  True,  True,  True,  True,\n",
       "        True,  True,  True,  True,  True,  True, False,  True, False,\n",
       "        True,  True, False,  True,  True,  True,  True,  True,  True,\n",
       "        True,  True, False,  True,  True,  True])"
      ]
     },
     "execution_count": 10,
     "metadata": {},
     "output_type": "execute_result"
    }
   ],
   "source": [
    "np.array(y_pred == y_val)"
   ]
  },
  {
   "cell_type": "code",
   "execution_count": 18,
   "metadata": {},
   "outputs": [],
   "source": [
    "dir = path_act()"
   ]
  },
  {
   "cell_type": "code",
   "execution_count": 20,
   "metadata": {},
   "outputs": [],
   "source": [
    "with open(f'{dir}/model/SVC_model.pkl','wb') as fw:\n",
    "    pickle.dump(svm,fw)"
   ]
  }
 ],
 "metadata": {
  "interpreter": {
   "hash": "32f2fe102a4f10662d8c13f75131e1ba377b7194060421a642fdea27c55fc65a"
  },
  "kernelspec": {
   "display_name": "Python 3.10.0 64-bit",
   "language": "python",
   "name": "python3"
  },
  "language_info": {
   "codemirror_mode": {
    "name": "ipython",
    "version": 3
   },
   "file_extension": ".py",
   "mimetype": "text/x-python",
   "name": "python",
   "nbconvert_exporter": "python",
   "pygments_lexer": "ipython3",
   "version": "3.10.0"
  }
 },
 "nbformat": 4,
 "nbformat_minor": 2
}
